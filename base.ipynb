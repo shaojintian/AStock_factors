{
 "cells": [
  {
   "cell_type": "code",
   "execution_count": 12,
   "metadata": {},
   "outputs": [
    {
     "name": "stdout",
     "output_type": "stream",
     "text": [
      "[*********************100%***********************]  1 of 1 completed\n"
     ]
    },
    {
     "data": {
      "text/html": [
       "<div>\n",
       "<style scoped>\n",
       "    .dataframe tbody tr th:only-of-type {\n",
       "        vertical-align: middle;\n",
       "    }\n",
       "\n",
       "    .dataframe tbody tr th {\n",
       "        vertical-align: top;\n",
       "    }\n",
       "\n",
       "    .dataframe thead th {\n",
       "        text-align: right;\n",
       "    }\n",
       "</style>\n",
       "<table border=\"1\" class=\"dataframe\">\n",
       "  <thead>\n",
       "    <tr style=\"text-align: right;\">\n",
       "      <th></th>\n",
       "      <th>Open</th>\n",
       "      <th>High</th>\n",
       "      <th>Low</th>\n",
       "      <th>Close</th>\n",
       "      <th>Adj Close</th>\n",
       "      <th>Volume</th>\n",
       "      <th>Returns</th>\n",
       "    </tr>\n",
       "    <tr>\n",
       "      <th>Date</th>\n",
       "      <th></th>\n",
       "      <th></th>\n",
       "      <th></th>\n",
       "      <th></th>\n",
       "      <th></th>\n",
       "      <th></th>\n",
       "      <th></th>\n",
       "    </tr>\n",
       "  </thead>\n",
       "  <tbody>\n",
       "    <tr>\n",
       "      <th>2024-04-11</th>\n",
       "      <td>440.260010</td>\n",
       "      <td>446.329987</td>\n",
       "      <td>437.959991</td>\n",
       "      <td>445.369995</td>\n",
       "      <td>445.369995</td>\n",
       "      <td>45474600</td>\n",
       "      <td>0.015968</td>\n",
       "    </tr>\n",
       "    <tr>\n",
       "      <th>2024-04-12</th>\n",
       "      <td>441.100006</td>\n",
       "      <td>442.239990</td>\n",
       "      <td>436.880005</td>\n",
       "      <td>438.269989</td>\n",
       "      <td>438.269989</td>\n",
       "      <td>53602600</td>\n",
       "      <td>-0.015942</td>\n",
       "    </tr>\n",
       "    <tr>\n",
       "      <th>2024-04-15</th>\n",
       "      <td>442.059998</td>\n",
       "      <td>442.149994</td>\n",
       "      <td>430.209991</td>\n",
       "      <td>431.059998</td>\n",
       "      <td>431.059998</td>\n",
       "      <td>63453600</td>\n",
       "      <td>-0.016451</td>\n",
       "    </tr>\n",
       "    <tr>\n",
       "      <th>2024-04-16</th>\n",
       "      <td>430.899994</td>\n",
       "      <td>433.760010</td>\n",
       "      <td>429.700012</td>\n",
       "      <td>431.100006</td>\n",
       "      <td>431.100006</td>\n",
       "      <td>47487700</td>\n",
       "      <td>0.000093</td>\n",
       "    </tr>\n",
       "    <tr>\n",
       "      <th>2024-04-17</th>\n",
       "      <td>433.089996</td>\n",
       "      <td>433.099915</td>\n",
       "      <td>431.279999</td>\n",
       "      <td>431.470001</td>\n",
       "      <td>431.470001</td>\n",
       "      <td>5282043</td>\n",
       "      <td>0.000858</td>\n",
       "    </tr>\n",
       "  </tbody>\n",
       "</table>\n",
       "</div>"
      ],
      "text/plain": [
       "                  Open        High         Low       Close   Adj Close  \\\n",
       "Date                                                                     \n",
       "2024-04-11  440.260010  446.329987  437.959991  445.369995  445.369995   \n",
       "2024-04-12  441.100006  442.239990  436.880005  438.269989  438.269989   \n",
       "2024-04-15  442.059998  442.149994  430.209991  431.059998  431.059998   \n",
       "2024-04-16  430.899994  433.760010  429.700012  431.100006  431.100006   \n",
       "2024-04-17  433.089996  433.099915  431.279999  431.470001  431.470001   \n",
       "\n",
       "              Volume   Returns  \n",
       "Date                            \n",
       "2024-04-11  45474600  0.015968  \n",
       "2024-04-12  53602600 -0.015942  \n",
       "2024-04-15  63453600 -0.016451  \n",
       "2024-04-16  47487700  0.000093  \n",
       "2024-04-17   5282043  0.000858  "
      ]
     },
     "execution_count": 12,
     "metadata": {},
     "output_type": "execute_result"
    }
   ],
   "source": [
    "import yfinance as yf\n",
    "import pandas as pd\n",
    "\n",
    "# 获取QQQ的历史数据，时间范围为最近180天\n",
    "ticker = 'QQQ'\n",
    "start_date = pd.Timestamp.now() - pd.DateOffset(days=180)\n",
    "end_date = pd.Timestamp.now()\n",
    "data = yf.download(ticker, start=start_date, end=end_date)\n",
    "\n",
    "# 计算收益率\n",
    "data['Returns'] = data['Adj Close'].pct_change()\n",
    "\n",
    "data.tail()\n",
    "\n",
    "\n"
   ]
  },
  {
   "cell_type": "code",
   "execution_count": 23,
   "metadata": {},
   "outputs": [
    {
     "name": "stdout",
     "output_type": "stream",
     "text": [
      "最近20日收益率的均值为: -0.0778%\n",
      "最近20日收益率的标准差为: 0.8938%\n",
      "Mean - 2 Sigma 的值为: -1.8654%\n",
      "Mean - 1.5 * Sigma 的值为: -1.4185%\n",
      "Mean + 2 * Sigma 的值为: 1.7099%\n"
     ]
    }
   ],
   "source": [
    "# 计算最近20日收益率的均值和标准差\n",
    "last_20_returns = data['Returns'].tail(20)\n",
    "mean_return = last_20_returns.mean() \n",
    "std_dev_return = last_20_returns.std() \n",
    "\n",
    "# 计算 mean - 2 sigma\n",
    "mean_minus_2sigma = mean_return - 2 * std_dev_return\n",
    "\n",
    "mean_minus_1_5sigma = mean_return - 1.5 * std_dev_return\n",
    "mean_plus_2sigma = mean_return + 2 * std_dev_return\n",
    "\n",
    "print(f'最近20日收益率的均值为: {mean_return* 100:.4f}%')\n",
    "print(f'最近20日收益率的标准差为: {std_dev_return* 100:.4f}%')\n",
    "print(f'Mean - 2 Sigma 的值为: {mean_minus_2sigma* 100:.4f}%')\n",
    "print(f'Mean - 1.5 * Sigma 的值为: {mean_minus_1_5sigma* 100:.4f}%')\n",
    "print(f'Mean + 2 * Sigma 的值为: {mean_plus_2sigma* 100:.4f}%')"
   ]
  },
  {
   "cell_type": "code",
   "execution_count": 14,
   "metadata": {},
   "outputs": [
    {
     "name": "stdout",
     "output_type": "stream",
     "text": [
      "最近60日收益率的均值为: 0.0451%\n",
      "最近60日收益率的标准差为: 0.9957%\n",
      "Mean - 2 Sigma 的值为: -1.9464%\n"
     ]
    }
   ],
   "source": [
    "# 计算最近60日收益率的均值和标准差\n",
    "last_60_returns = data['Returns'].tail(60)\n",
    "mean_return = last_60_returns.mean() \n",
    "std_dev_return = last_60_returns.std() \n",
    "mean60_minus_2sigma = mean_return - 2 * std_dev_return\n",
    "\n",
    "print(f'最近60日收益率的均值为: {mean_return* 100:.4f}%')\n",
    "print(f'最近60日收益率的标准差为: {std_dev_return* 100:.4f}%')\n",
    "print(f'Mean - 2 Sigma 的值为: {mean60_minus_2sigma* 100:.4f}%')"
   ]
  },
  {
   "cell_type": "code",
   "execution_count": 25,
   "metadata": {},
   "outputs": [
    {
     "data": {
      "text/plain": [
       "DatetimeIndex(['2023-10-25', '2023-10-26', '2023-12-20', '2024-01-02',\n",
       "               '2024-01-31', '2024-02-13', '2024-03-05', '2024-03-08',\n",
       "               '2024-04-04', '2024-04-12', '2024-04-15'],\n",
       "              dtype='datetime64[ns]', name='Date', freq=None)"
      ]
     },
     "execution_count": 25,
     "metadata": {},
     "output_type": "execute_result"
    }
   ],
   "source": [
    "# 找出收益率小于 Mean - 2 Sigma 的日期\n",
    "dates_below_threshold = data[data['Returns'] < mean_minus_1_5sigma].index\n",
    "dates_below_threshold"
   ]
  },
  {
   "cell_type": "code",
   "execution_count": 21,
   "metadata": {},
   "outputs": [
    {
     "data": {
      "text/plain": [
       "DatetimeIndex(['2023-11-01', '2023-11-02', '2023-11-10', '2023-11-14',\n",
       "               '2024-01-08', '2024-01-19', '2024-02-22'],\n",
       "              dtype='datetime64[ns]', name='Date', freq=None)"
      ]
     },
     "execution_count": 21,
     "metadata": {},
     "output_type": "execute_result"
    }
   ],
   "source": []
  },
  {
   "cell_type": "code",
   "execution_count": null,
   "metadata": {},
   "outputs": [],
   "source": []
  }
 ],
 "metadata": {
  "kernelspec": {
   "display_name": "Python 3",
   "language": "python",
   "name": "python3"
  },
  "language_info": {
   "codemirror_mode": {
    "name": "ipython",
    "version": 3
   },
   "file_extension": ".py",
   "mimetype": "text/x-python",
   "name": "python",
   "nbconvert_exporter": "python",
   "pygments_lexer": "ipython3",
   "version": "3.10.10"
  }
 },
 "nbformat": 4,
 "nbformat_minor": 2
}
