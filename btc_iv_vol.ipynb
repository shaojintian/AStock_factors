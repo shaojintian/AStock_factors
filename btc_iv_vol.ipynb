{
 "cells": [
  {
   "cell_type": "code",
   "execution_count": 1,
   "metadata": {},
   "outputs": [
    {
     "ename": "ModuleNotFoundError",
     "evalue": "No module named 'quandl'",
     "output_type": "error",
     "traceback": [
      "\u001b[0;31m---------------------------------------------------------------------------\u001b[0m",
      "\u001b[0;31mModuleNotFoundError\u001b[0m                       Traceback (most recent call last)",
      "Cell \u001b[0;32mIn[1], line 1\u001b[0m\n\u001b[0;32m----> 1\u001b[0m \u001b[38;5;28;01mimport\u001b[39;00m \u001b[38;5;21;01mquandl\u001b[39;00m\n\u001b[1;32m      3\u001b[0m \u001b[38;5;66;03m# 设置Quandl的API密钥\u001b[39;00m\n\u001b[1;32m      4\u001b[0m quandl\u001b[38;5;241m.\u001b[39mApiConfig\u001b[38;5;241m.\u001b[39mapi_key \u001b[38;5;241m=\u001b[39m \u001b[38;5;124m'\u001b[39m\u001b[38;5;124mo6aJJEyGCN3FHo8xzUcC\u001b[39m\u001b[38;5;124m'\u001b[39m\n",
      "\u001b[0;31mModuleNotFoundError\u001b[0m: No module named 'quandl'"
     ]
    }
   ],
   "source": [
    "import quandl\n",
    "\n",
    "# 设置Quandl的API密钥\n",
    "quandl.ApiConfig.api_key = 'o6aJJEyGCN3FHo8xzUcC'\n",
    "\n",
    "# 下载比特币的隐含波动率数据\n",
    "btc_iv_data = quandl.get('BCHAIN/MKPRU', start_date='2020-01-01', end_date='2022-12-31')\n",
    "\n",
    "print(btc_iv_data.head())\n"
   ]
  },
  {
   "cell_type": "code",
   "execution_count": null,
   "metadata": {},
   "outputs": [],
   "source": [
    "# 对比特币的隐含波动率数据进行移动平均处理\n",
    "btc_iv_data['MA_20'] = btc_iv_data['Value'].rolling(window=20).mean()\n",
    "\n",
    "# 提取统计特征\n",
    "btc_iv_data['IV_mean'] = btc_iv_data['Value'].mean()\n",
    "btc_iv_data['IV_std'] = btc_iv_data['Value'].std()\n",
    "\n",
    "print(btc_iv_data.head())\n"
   ]
  },
  {
   "cell_type": "code",
   "execution_count": null,
   "metadata": {},
   "outputs": [],
   "source": [
    "from sklearn.model_selection import train_test_split\n",
    "from sklearn.linear_model import LinearRegression\n",
    "from sklearn.metrics import mean_squared_error\n",
    "\n",
    "# 特征选择\n",
    "features = ['Value', 'MA_20', 'IV_mean', 'IV_std']\n",
    "X = btc_iv_data[features]\n",
    "y = btc_iv_data['Value'].shift(-1)  # 使用下一期的隐含波动率作为预测目标\n",
    "\n",
    "# 划分训练集和测试集\n",
    "X_train, X_test, y_train, y_test = train_test_split(X, y, test_size=0.2, random_state=0)\n",
    "\n",
    "# 训练线性回归模型\n",
    "model = LinearRegression()\n",
    "model.fit(X_train, y_train)\n",
    "\n",
    "# 预测测试集\n",
    "y_pred = model.predict(X_test)\n",
    "\n",
    "# 计算均方误差\n",
    "mse = mean_squared_error(y_test, y_pred)\n",
    "print(f'均方误差（MSE）为: {mse:.4f}')\n"
   ]
  }
 ],
 "metadata": {
  "kernelspec": {
   "display_name": "Python 3",
   "language": "python",
   "name": "python3"
  },
  "language_info": {
   "codemirror_mode": {
    "name": "ipython",
    "version": 3
   },
   "file_extension": ".py",
   "mimetype": "text/x-python",
   "name": "python",
   "nbconvert_exporter": "python",
   "pygments_lexer": "ipython3",
   "version": "3.10.10"
  }
 },
 "nbformat": 4,
 "nbformat_minor": 2
}
