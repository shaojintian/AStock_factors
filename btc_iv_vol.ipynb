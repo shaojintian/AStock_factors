{
 "cells": [
  {
   "cell_type": "code",
   "execution_count": 3,
   "metadata": {},
   "outputs": [
    {
     "name": "stdout",
     "output_type": "stream",
     "text": [
      "               Value\n",
      "Date                \n",
      "2024-01-04  42854.95\n",
      "2024-01-05  44190.10\n",
      "2024-01-06  44181.10\n",
      "2024-01-07  43975.63\n",
      "2024-01-08  43928.07\n"
     ]
    }
   ],
   "source": [
    "import quandl\n",
    "\n",
    "# 设置Quandl的API密钥\n",
    "quandl.ApiConfig.api_key = 'o6aJJEyGCN3FHo8xzUcC'\n",
    "\n",
    "# 下载比特币的隐含波动率数据\n",
    "btc_iv_data = quandl.get('BCHAIN/MKPRU', start_date='2020-01-01', end_date='2024-04-11')\n",
    "\n",
    "print(btc_iv_data.tail())\n"
   ]
  },
  {
   "cell_type": "code",
   "execution_count": null,
   "metadata": {},
   "outputs": [],
   "source": [
    "# 对比特币的隐含波动率数据进行移动平均处理\n",
    "btc_iv_data['MA_20'] = btc_iv_data['Value'].rolling(window=20).mean()\n",
    "\n",
    "# 提取统计特征\n",
    "btc_iv_data['IV_mean'] = btc_iv_data['Value'].mean()\n",
    "btc_iv_data['IV_std'] = btc_iv_data['Value'].std()\n",
    "\n",
    "print(btc_iv_data.head())\n"
   ]
  },
  {
   "cell_type": "code",
   "execution_count": null,
   "metadata": {},
   "outputs": [],
   "source": [
    "from sklearn.model_selection import train_test_split\n",
    "from sklearn.linear_model import LinearRegression\n",
    "from sklearn.metrics import mean_squared_error\n",
    "\n",
    "# 特征选择\n",
    "features = ['Value', 'MA_20', 'IV_mean', 'IV_std']\n",
    "X = btc_iv_data[features]\n",
    "y = btc_iv_data['Value'].shift(-1)  # 使用下一期的隐含波动率作为预测目标\n",
    "\n",
    "# 划分训练集和测试集\n",
    "X_train, X_test, y_train, y_test = train_test_split(X, y, test_size=0.2, random_state=0)\n",
    "\n",
    "# 训练线性回归模型\n",
    "model = LinearRegression()\n",
    "model.fit(X_train, y_train)\n",
    "\n",
    "# 预测测试集\n",
    "y_pred = model.predict(X_test)\n",
    "\n",
    "# 计算均方误差\n",
    "mse = mean_squared_error(y_test, y_pred)\n",
    "print(f'均方误差（MSE）为: {mse:.4f}')\n"
   ]
  }
 ],
 "metadata": {
  "kernelspec": {
   "display_name": "Python 3",
   "language": "python",
   "name": "python3"
  },
  "language_info": {
   "codemirror_mode": {
    "name": "ipython",
    "version": 3
   },
   "file_extension": ".py",
   "mimetype": "text/x-python",
   "name": "python",
   "nbconvert_exporter": "python",
   "pygments_lexer": "ipython3",
   "version": "3.10.10"
  }
 },
 "nbformat": 4,
 "nbformat_minor": 2
}
