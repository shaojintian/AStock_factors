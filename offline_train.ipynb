{
 "cells": [
  {
   "cell_type": "code",
   "execution_count": null,
   "metadata": {},
   "outputs": [],
   "source": [
    "from lightgbm import LGBMRegressor\n",
    "from sklearn.model_selection import train_test_split\n",
    "from sklearn.metrics import mean_absolute_error\n",
    "import pandas as pd\n",
    "\n",
    "lgbm_model = LGBMRegressor()\n",
    "\n",
    "df = pd.read_csv('btc_prices_30m.csv')\n",
    "train_df = df[df.columns.drop('returns')]\n",
    "#拆分数据\n",
    "X_train, X_test, y_train, y_test = train_test_split(train_df, df['returns'], test_size=0.2, random_state=42)\n",
    "lgbm_model.fit(X_train, y_train)\n",
    "\n",
    "\n",
    "#预测\n",
    "y_pred = lgbm_model.predict(X_test)\n",
    "\n",
    "#评估模型：\n",
    "mae = mean_absolute_error(y_test, y_pred)\n",
    "print(f\"Mean Squared Error: {mae}\")"
   ]
  },
  {
   "cell_type": "code",
   "execution_count": null,
   "metadata": {},
   "outputs": [],
   "source": []
  },
  {
   "cell_type": "code",
   "execution_count": null,
   "metadata": {},
   "outputs": [],
   "source": []
  },
  {
   "cell_type": "code",
   "execution_count": null,
   "metadata": {},
   "outputs": [],
   "source": []
  }
 ],
 "metadata": {
  "language_info": {
   "name": "python"
  }
 },
 "nbformat": 4,
 "nbformat_minor": 2
}
